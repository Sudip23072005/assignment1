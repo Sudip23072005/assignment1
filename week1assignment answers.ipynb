{
 "cells": [
  {
   "cell_type": "markdown",
   "id": "4105f8cd-98c6-4848-a44d-2cfacc248072",
   "metadata": {},
   "source": [
    "Q1. Create one variable containing following type of data:\n",
    "(i) string\n",
    "(ii) list\n",
    "(iii) float\n",
    "(iv) tuple"
   ]
  },
  {
   "cell_type": "code",
   "execution_count": 1,
   "id": "5237e132-70aa-4659-82d5-774925cbba8e",
   "metadata": {},
   "outputs": [],
   "source": [
    "#string\n",
    "str='sudip'\n",
    "#list\n",
    "l=[1,2,3,4]\n",
    "#float\n",
    "f=12.3\n",
    "#tuple\n",
    "tup=(1,2,3)"
   ]
  },
  {
   "cell_type": "markdown",
   "id": "a7665be7-a2e6-4d2b-9e8c-37ee3bc1e457",
   "metadata": {},
   "source": [
    "Q2. Given are some following variables containing data:\n",
    "(i) var1 = ‘ ‘\n",
    "(ii) var2 = ‘[ DS , ML , Python]’\n",
    "(iii) var3 = [ ‘DS’ , ’ML’ , ‘Python’ ]\n",
    "(iv) var4 = 1."
   ]
  },
  {
   "cell_type": "code",
   "execution_count": 8,
   "id": "e61b98e9-260a-4005-b1ab-e7c697d370c7",
   "metadata": {},
   "outputs": [],
   "source": [
    "#(i)string (ii)string (iii)List (iv)integer"
   ]
  },
  {
   "cell_type": "markdown",
   "id": "9039d0fa-74e6-43cb-8495-36abc70cf739",
   "metadata": {},
   "source": [
    "Q3. Explain the use of the following operators using an example:\n",
    "(i) /\n",
    "(ii) %\n",
    "(iii) //\n",
    "(iv) **"
   ]
  },
  {
   "cell_type": "code",
   "execution_count": 9,
   "id": "35d91952-9d79-4411-9bb5-cc42ca7689c0",
   "metadata": {},
   "outputs": [
    {
     "name": "stdout",
     "output_type": "stream",
     "text": [
      "6.25\n"
     ]
    }
   ],
   "source": [
    "#(i) /-This is used for division between 2 numbers. the numbers can be integer or float\n",
    "var=12.5/2\n",
    "print(var)"
   ]
  },
  {
   "cell_type": "code",
   "execution_count": 10,
   "id": "695068a7-6f3d-49a6-b722-20756c5e9d64",
   "metadata": {},
   "outputs": [
    {
     "name": "stdout",
     "output_type": "stream",
     "text": [
      "2\n"
     ]
    }
   ],
   "source": [
    "#(ii) % This is used for finding the remainder when we divide one number by another number\n",
    "var=12%5\n",
    "print(var)"
   ]
  },
  {
   "cell_type": "code",
   "execution_count": 11,
   "id": "8a350df6-6e73-49e3-be97-ab5cce59199b",
   "metadata": {},
   "outputs": [
    {
     "name": "stdout",
     "output_type": "stream",
     "text": [
      "2\n"
     ]
    }
   ],
   "source": [
    "#(iii) // this is a floor division operator used for returning the largest integer that is less than or equal to the result of the division\n",
    "var= 12//5\n",
    "print(var)"
   ]
  },
  {
   "cell_type": "code",
   "execution_count": 13,
   "id": "a21af615-aa2b-45ee-9141-49ce9cbda903",
   "metadata": {},
   "outputs": [
    {
     "name": "stdout",
     "output_type": "stream",
     "text": [
      "8\n"
     ]
    }
   ],
   "source": [
    "#(iv) ** this operator is used for exponential or power of operator for example 2 power 3 which is 2*2*2=8\n",
    "var=2**3\n",
    "print(var)"
   ]
  },
  {
   "cell_type": "code",
   "execution_count": 15,
   "id": "262bcf21-f86d-4836-82c5-9446a850b46a",
   "metadata": {},
   "outputs": [],
   "source": [
    "#Q4. Create a list of length 10 of your choice containing multiple types of data. Using for loop print the\n",
    "#element and its data type."
   ]
  },
  {
   "cell_type": "code",
   "execution_count": 14,
   "id": "7d461b93-a897-48c7-a108-b648f8753aa7",
   "metadata": {},
   "outputs": [
    {
     "name": "stdout",
     "output_type": "stream",
     "text": [
      "1\n",
      "<class 'int'>\n",
      "2.3\n",
      "<class 'float'>\n",
      "sudip\n",
      "<class 'str'>\n",
      "[1, 2]\n",
      "<class 'list'>\n",
      "(1, 2)\n",
      "<class 'tuple'>\n",
      "3\n",
      "<class 'int'>\n",
      "4.5\n",
      "<class 'float'>\n",
      "5\n",
      "<class 'int'>\n",
      "10\n",
      "<class 'int'>\n",
      "12\n",
      "<class 'int'>\n"
     ]
    }
   ],
   "source": [
    "l=[1,2.3,'sudip',[1,2],(1,2),3,4.5,5,10,12]\n",
    "for i in l:\n",
    "    print(i)\n",
    "    print(type(i))"
   ]
  },
  {
   "cell_type": "markdown",
   "id": "68843aa2-78c6-4135-a303-f4904ecea6dd",
   "metadata": {},
   "source": [
    "Q5. Using a while loop, verify if the number A is purely divisible by number B and if so then how many\n",
    "times it can be divisible."
   ]
  },
  {
   "cell_type": "code",
   "execution_count": 23,
   "id": "3b58ae6e-ea47-458d-b9ca-f5eed6f066d0",
   "metadata": {},
   "outputs": [
    {
     "name": "stdin",
     "output_type": "stream",
     "text": [
      "Enter the dividend (A):  23\n",
      "Enter the divisor (B):  3\n"
     ]
    },
    {
     "name": "stdout",
     "output_type": "stream",
     "text": [
      "23 is not purely divisible by 3.\n"
     ]
    }
   ],
   "source": [
    "def count_divisible(A, B):\n",
    "    count = 0\n",
    "    while A % B == 0:\n",
    "        A /= B\n",
    "        count += 1\n",
    "    return count\n",
    "\n",
    "A = int(input(\"Enter the dividend (A): \"))\n",
    "B = int(input(\"Enter the divisor (B): \"))\n",
    "\n",
    "divisible_count = count_divisible(A, B)\n",
    "\n",
    "if divisible_count > 0:\n",
    "    print(f\"{A} is purely divisible by {B} and can be divided {divisible_count} times.\")\n",
    "else:\n",
    "    print(f\"{A} is not purely divisible by {B}.\")\n"
   ]
  },
  {
   "cell_type": "markdown",
   "id": "dc5b56b2-4532-4ab0-9e60-f64ad0be7976",
   "metadata": {},
   "source": [
    "Q6. Create a list containing 25 int type data. Using for loop and if-else condition print if the element is\n",
    "divisible by 3 or not."
   ]
  },
  {
   "cell_type": "code",
   "execution_count": 20,
   "id": "9ab8fe1a-1456-432a-b51c-e46f7210fc8c",
   "metadata": {},
   "outputs": [
    {
     "name": "stdout",
     "output_type": "stream",
     "text": [
      "1 is not divisible by 3\n",
      "2 is not divisible by 3\n",
      "3  is divisible by 3\n",
      "4 is not divisible by 3\n",
      "6  is divisible by 3\n",
      "5 is not divisible by 3\n",
      "7 is not divisible by 3\n",
      "8 is not divisible by 3\n",
      "9  is divisible by 3\n",
      "10 is not divisible by 3\n",
      "11 is not divisible by 3\n",
      "12  is divisible by 3\n",
      "13 is not divisible by 3\n",
      "14 is not divisible by 3\n",
      "12  is divisible by 3\n",
      "16 is not divisible by 3\n",
      "17 is not divisible by 3\n",
      "20 is not divisible by 3\n",
      "21  is divisible by 3\n",
      "22 is not divisible by 3\n",
      "25 is not divisible by 3\n",
      "26 is not divisible by 3\n",
      "27  is divisible by 3\n",
      "30  is divisible by 3\n",
      "33  is divisible by 3\n"
     ]
    }
   ],
   "source": [
    "l=[1,2,3,4,6,5,7,8,9,10,11,12,13,14,12,16,17,20,21,22,25,26,27,30,33]\n",
    "for i in l:\n",
    "    if(i%3==0):\n",
    "        print(i,\" is divisible by 3\")\n",
    "    else:\n",
    "        print(i,\"is not divisible by 3\")"
   ]
  },
  {
   "cell_type": "markdown",
   "id": "4a0e2480-7344-482d-8e61-b3a56f3af85d",
   "metadata": {},
   "source": [
    "Q7. What do you understand about mutable and immutable data types? Give examples for both showing\n",
    "this property."
   ]
  },
  {
   "cell_type": "code",
   "execution_count": 21,
   "id": "1197f1ea-2e8a-4742-9ba6-4abb47b85398",
   "metadata": {},
   "outputs": [
    {
     "name": "stdout",
     "output_type": "stream",
     "text": [
      "[23, 2, 3, 4]\n"
     ]
    }
   ],
   "source": [
    "#Mutable data type are those data type that can be changed or add new elements or delete elements for example list\n",
    "#Immutable data type -The data type whiich cannot be modified or changed after creating it for example tuple,string,etc\n",
    "#Mutable example\n",
    "list=[1,2,3,4]\n",
    "list[0]=23\n",
    "print(list)\n"
   ]
  },
  {
   "cell_type": "code",
   "execution_count": 22,
   "id": "476d3785-f278-4608-92b1-0fad250146c1",
   "metadata": {},
   "outputs": [
    {
     "ename": "TypeError",
     "evalue": "'tuple' object does not support item assignment",
     "output_type": "error",
     "traceback": [
      "\u001b[1;31m---------------------------------------------------------------------------\u001b[0m",
      "\u001b[1;31mTypeError\u001b[0m                                 Traceback (most recent call last)",
      "Cell \u001b[1;32mIn[22], line 3\u001b[0m\n\u001b[0;32m      1\u001b[0m \u001b[38;5;66;03m#immutable\u001b[39;00m\n\u001b[0;32m      2\u001b[0m \u001b[38;5;28mtuple\u001b[39m\u001b[38;5;241m=\u001b[39m(\u001b[38;5;241m1\u001b[39m,\u001b[38;5;241m2\u001b[39m,\u001b[38;5;241m3\u001b[39m,\u001b[38;5;241m4\u001b[39m)\n\u001b[1;32m----> 3\u001b[0m \u001b[38;5;28mtuple\u001b[39m[\u001b[38;5;241m0\u001b[39m]\u001b[38;5;241m=\u001b[39m\u001b[38;5;241m23\u001b[39m\n\u001b[0;32m      4\u001b[0m \u001b[38;5;28mprint\u001b[39m(\u001b[38;5;28mtuple\u001b[39m)\n",
      "\u001b[1;31mTypeError\u001b[0m: 'tuple' object does not support item assignment"
     ]
    }
   ],
   "source": [
    "#immutable-we can see we get errors if we try to modify the data\n",
    "tuple=(1,2,3,4)\n",
    "tuple[0]=23\n",
    "print(tuple)"
   ]
  },
  {
   "cell_type": "code",
   "execution_count": null,
   "id": "0d9207c2-4844-4869-bbae-c78fbf8230c6",
   "metadata": {},
   "outputs": [],
   "source": []
  }
 ],
 "metadata": {
  "kernelspec": {
   "display_name": "Python 3 (ipykernel)",
   "language": "python",
   "name": "python3"
  },
  "language_info": {
   "codemirror_mode": {
    "name": "ipython",
    "version": 3
   },
   "file_extension": ".py",
   "mimetype": "text/x-python",
   "name": "python",
   "nbconvert_exporter": "python",
   "pygments_lexer": "ipython3",
   "version": "3.11.7"
  }
 },
 "nbformat": 4,
 "nbformat_minor": 5
}
