{
 "cells": [
  {
   "cell_type": "markdown",
   "id": "55bce9b9-efe3-42ff-8921-06cdf36320ef",
   "metadata": {},
   "source": [
    "Q1. How can you create a Bokeh plot using Python code?\n",
    "Q2. What are glyphs in Bokeh, and how can you add them to a Bokeh plot? Explain with an example.\n",
    "Q3. How can you customize the appearance of a Bokeh plot, including the axes, title, and legend?\n",
    "Q4. What is a Bokeh server, and how can you use it to create interactive plots that can be updated in\n",
    "real time?\n",
    "Q5. How can you embed a Bokeh plot into a web page or dashboard using Flask or Django?"
   ]
  },
  {
   "cell_type": "code",
   "execution_count": 1,
   "id": "9eba36db-25cd-4ae1-a1f1-a8d3641cfa28",
   "metadata": {},
   "outputs": [],
   "source": [
    "from bokeh.plotting import figure, show\n",
    "\n",
    "p = figure(title=\"Simple Bokeh Plot\", x_axis_label='x', y_axis_label='y')\n",
    "p.line([1, 2, 3, 4, 5], [6, 7, 2, 4, 5], legend_label=\"Line Example\", line_width=2)\n",
    "show(p)\n"
   ]
  },
  {
   "cell_type": "markdown",
   "id": "2cdf1b31-e586-4e05-bf48-2833d54c1ec4",
   "metadata": {},
   "source": [
    "Glyphs are the basic visual building blocks of Bokeh plots. They are the shapes or markers that represent data points in the plot, such as circles, lines, rectangles, etc."
   ]
  },
  {
   "cell_type": "code",
   "execution_count": 2,
   "id": "74bfffc8-ab90-4237-972c-9f1d5cedb988",
   "metadata": {},
   "outputs": [],
   "source": [
    "from bokeh.plotting import figure, show\n",
    "\n",
    "p = figure(title=\"Bokeh Glyphs Example\", x_axis_label='x', y_axis_label='y')\n",
    "\n",
    "p.circle([1, 2, 3, 4, 5], [6, 7, 2, 4, 5], size=10, color=\"navy\", alpha=0.5, legend_label=\"Circle\")\n",
    "\n",
    "p.square([1, 2, 3, 4, 5], [5, 4, 3, 2, 1], size=10, color=\"red\", alpha=0.5, legend_label=\"Square\")\n",
    "\n",
    "show(p)\n"
   ]
  },
  {
   "cell_type": "code",
   "execution_count": 3,
   "id": "2755b706-53b5-4513-ae5a-0fbe544fdbef",
   "metadata": {},
   "outputs": [],
   "source": [
    "from bokeh.plotting import figure, show\n",
    "\n",
    "# Create a figure\n",
    "p = figure(title=\"Customized Bokeh Plot\", x_axis_label='X Axis', y_axis_label='Y Axis')\n",
    "\n",
    "# Add a line renderer\n",
    "p.line([1, 2, 3, 4, 5], [6, 7, 2, 4, 5], legend_label=\"Line Example\", line_width=2)\n",
    "\n",
    "# Customize title\n",
    "p.title.text = \"New Title\"\n",
    "p.title.text_font_size = '16pt'\n",
    "p.title.align = 'center'\n",
    "\n",
    "# Customize axes\n",
    "p.xaxis.axis_label = \"Custom X Axis\"\n",
    "p.yaxis.axis_label = \"Custom Y Axis\"\n",
    "p.xaxis.axis_label_text_color = \"blue\"\n",
    "p.yaxis.axis_label_text_color = \"green\"\n",
    "p.xaxis.major_label_text_font_size = '12pt'\n",
    "p.yaxis.major_label_text_font_size = '12pt'\n",
    "\n",
    "# Customize legend\n",
    "p.legend.title = 'Legend Title'\n",
    "p.legend.label_text_font_size = '10pt'\n",
    "p.legend.location = 'top_left'\n",
    "\n",
    "# Show the results\n",
    "show(p)\n"
   ]
  },
  {
   "cell_type": "code",
   "execution_count": 4,
   "id": "730621da-caff-462f-863f-cdb40da5ab7d",
   "metadata": {},
   "outputs": [],
   "source": [
    "from bokeh.io import curdoc\n",
    "from bokeh.layouts import column\n",
    "from bokeh.models import ColumnDataSource, Slider\n",
    "from bokeh.plotting import figure\n",
    "\n",
    "# Create a ColumnDataSource\n",
    "source = ColumnDataSource(data=dict(x=[1, 2, 3, 4, 5], y=[6, 7, 2, 4, 5]))\n",
    "\n",
    "# Create a figure\n",
    "p = figure(title=\"Bokeh Server Example\")\n",
    "p.line('x', 'y', source=source)\n",
    "\n",
    "# Create a slider\n",
    "slider = Slider(start=0, end=10, value=1, step=0.1, title=\"Multiplier\")\n",
    "\n",
    "# Update function\n",
    "def update(attr, old, new):\n",
    "    factor = slider.value\n",
    "    new_y = [y * factor for y in source.data['y']]\n",
    "    source.data = dict(x=[1, 2, 3, 4, 5], y=new_y)\n",
    "\n",
    "slider.on_change('value', update)\n",
    "\n",
    "# Layout and add to the current document\n",
    "layout = column(p, slider)\n",
    "curdoc().add_root(layout)\n"
   ]
  },
  {
   "cell_type": "markdown",
   "id": "15478f11-2b78-4c8c-bee9-1848647ed745",
   "metadata": {},
   "source": [
    "To embed a Bokeh plot into a web page or dashboard using Flask or Django, you need to utilize the respective web frameworks along with Bokeh's embedding capabilities. In Flask, you create a Flask app and define a route that renders an HTML template containing the embedded Bokeh plot using the components function. This function generates the JavaScript and HTML components needed to embed the plot into the web page. In Django, you similarly define a view that renders an HTML template, but you configure URL routing through Django's URL configuration. Both approaches involve creating a Bokeh plot using Bokeh's Python API, embedding it into an HTML template, and then serving the HTML content through Flask or Django. This allows you to seamlessly integrate interactive Bokeh plots into your web applications or dashboards, providing dynamic visualizations for your users."
   ]
  },
  {
   "cell_type": "code",
   "execution_count": null,
   "id": "c1054912-c920-44db-8964-b33687735dd1",
   "metadata": {},
   "outputs": [],
   "source": []
  }
 ],
 "metadata": {
  "kernelspec": {
   "display_name": "Python 3 (ipykernel)",
   "language": "python",
   "name": "python3"
  },
  "language_info": {
   "codemirror_mode": {
    "name": "ipython",
    "version": 3
   },
   "file_extension": ".py",
   "mimetype": "text/x-python",
   "name": "python",
   "nbconvert_exporter": "python",
   "pygments_lexer": "ipython3",
   "version": "3.11.7"
  }
 },
 "nbformat": 4,
 "nbformat_minor": 5
}
