{
 "cells": [
  {
   "cell_type": "markdown",
   "id": "19efbfb4-6719-4a54-bb09-c3465327adef",
   "metadata": {},
   "source": [
    "Q1. How do you comment code in Python? What are the different types of comments?"
   ]
  },
  {
   "cell_type": "code",
   "execution_count": 2,
   "id": "b1f352e5-6fa3-489a-bd1a-4c1abe823b00",
   "metadata": {},
   "outputs": [],
   "source": [
    "#There are 2 types of comment in python one is single line comment and another is multiline comment\n",
    "#single line comment is given by #\n",
    "#multiline comment is given by \" \" \"\n",
    "#Examples: single line- #This is a comment\n",
    "   #       multi line- \"\"\" hello this is Sudip\"\"\""
   ]
  },
  {
   "cell_type": "code",
   "execution_count": null,
   "id": "74cb13d6-4061-407f-849f-ff6687f6bb21",
   "metadata": {},
   "outputs": [],
   "source": [
    "Q2. What are variables in Python? How do you declare and assign values to variables?"
   ]
  },
  {
   "cell_type": "markdown",
   "id": "b65c3d2f-a4d6-4a14-ab81-2318106ca25a",
   "metadata": {},
   "source": [
    "Variables are container which can be used to store values such as integer,float,string,etc\n",
    "we can simply declare the variable and put the data in it\n",
    "Examples:\n",
    "a=25,\n",
    "b=\"sudip\",\n",
    "c=44.5"
   ]
  },
  {
   "cell_type": "markdown",
   "id": "39ff5c96-e015-4934-a1c9-9e4f0e1ca782",
   "metadata": {},
   "source": [
    "Q3. How do you convert one data type to another in Python?"
   ]
  },
  {
   "cell_type": "markdown",
   "id": "8fe01e5e-470f-4015-b360-4ca3e902c944",
   "metadata": {},
   "source": [
    "In Python, you can convert one data type to another using type conversion functions or constructors. Here are some commonly used methods for type conversion:\n",
    "\n",
    "1. **Implicit type conversion (Type Coercion)**: Python automatically converts one data type to another when required. This happens in certain situations, such as arithmetic operations involving different data types.\n",
    "\n",
    "```python\n",
    "x = 5        # integer\n",
    "y = 2.5      # float\n",
    "\n",
    "z = x + y    # Result will be a float because of type coercion\n",
    "```\n",
    "\n",
    "2. **Explicit type conversion (Type Casting)**: You can explicitly convert one data type to another using built-in functions or constructors. Here are some examples:\n",
    "\n",
    "   - **int()**: Converts to an integer.\n",
    "   - **float()**: Converts to a floating-point number.\n",
    "   - **str()**: Converts to a string.\n",
    "   - **list()**: Converts to a list.\n",
    "   - **tuple()**: Converts to a tuple.\n",
    "   - **dict()**: Converts to a dictionary.\n",
    "\n",
    "```python\n",
    "# Example of type casting\n",
    "x = 5.7\n",
    "y = int(x)    # y will be 5 (integer conversion)\n",
    "\n",
    "a = 10\n",
    "b = float(a)  # b will be 10.0 (float conversion)\n",
    "\n",
    "e = 5\n",
    "f = str(e)    # f will be '5' (integer to string conversion)\n",
    "```\n",
    "\n",
    "3. **Using format methods**: You can use format methods like `str.format()` or `f-strings` to convert data types implicitly.\n",
    "\n",
    "```python\n",
    "# Example of using f-strings for type conversion\n",
    "x = 10\n",
    "y = f'The value of x is {x}'  # Implicit conversion of x to string\n",
    "```"
   ]
  },
  {
   "cell_type": "markdown",
   "id": "9c79b6c0-430e-46ae-af94-c104f0dab060",
   "metadata": {},
   "source": [
    "Q4. How do you write and execute a Python script from the command line?"
   ]
  },
  {
   "cell_type": "markdown",
   "id": "d8f7d991-e215-4184-92b2-f9a6bd09973d",
   "metadata": {},
   "source": [
    "To write and execute a Python script from the command line, follow these steps:\n",
    "\n",
    "1. **Open a text editor**: Open a text editor such as Notepad, Sublime Text, Atom, Visual Studio Code, or any other text editor \n",
    "\n",
    "2. **Write your Python code**: In the text editor, write your Python code. Save the file with a .py extension. For example, we can name it myscript.py.\n",
    "\n",
    "```\n",
    "print(\"Hello, world!\")\n",
    "```\n",
    "\n",
    "3. **Open the command line**: Open the command prompt or terminal.\n",
    "\n",
    "4. **Navigate to the directory containing your Python script**: Use the cd command to navigate to the directory where our Python script is saved. For example:\n",
    "\n",
    "```\n",
    "cd path/to/your/directory\n",
    "```\n",
    "\n",
    "5. **Execute the Python script**: Once we're in the directory containing our Python script, we can execute it by typing python followed by the name of our script file.\n",
    "\n",
    "```\n",
    "python myscript.py\n",
    "```\n",
    "\n"
   ]
  },
  {
   "cell_type": "markdown",
   "id": "09d177f3-f50a-4d0c-b67b-8e9d1544a6c3",
   "metadata": {},
   "source": [
    "Q5. Given a list my_list = [1, 2, 3, 4, 5], write the code to slice the list and obtain the sub-list [2, 3]."
   ]
  },
  {
   "cell_type": "code",
   "execution_count": 7,
   "id": "2f4731af-a962-4d20-8959-5f9f64c0662e",
   "metadata": {},
   "outputs": [
    {
     "data": {
      "text/plain": [
       "[2, 3]"
      ]
     },
     "execution_count": 7,
     "metadata": {},
     "output_type": "execute_result"
    }
   ],
   "source": [
    "my_list = [1, 2, 3, 4, 5]\n",
    "my_list[1:3]"
   ]
  },
  {
   "cell_type": "markdown",
   "id": "bb49c015-721e-4978-a52d-2f076a0193b4",
   "metadata": {},
   "source": [
    "Q6. What is a complex number in mathematics, and how is it represented in Python?"
   ]
  },
  {
   "cell_type": "markdown",
   "id": "46286126-4c89-4d1f-a523-4981e9bffbc4",
   "metadata": {},
   "source": [
    "In mathematics complex number consists of real and imaginary number we can represent it using a+bj where a is real number and b is imaginary number\n",
    "To  represent this in python \n",
    "Example: a=1+2j,\n",
    "         b=2+5j\n"
   ]
  },
  {
   "cell_type": "markdown",
   "id": "9839a75c-bc4f-48cb-bb37-4be3582dc6b3",
   "metadata": {},
   "source": [
    "Q7. What is the correct way to declare a variable named age and assign the value 25 to it?"
   ]
  },
  {
   "cell_type": "code",
   "execution_count": 10,
   "id": "88536fc8-9cc5-4af1-9625-ded6ceeecf5b",
   "metadata": {},
   "outputs": [
    {
     "name": "stdout",
     "output_type": "stream",
     "text": [
      "25\n"
     ]
    }
   ],
   "source": [
    "age=25#correct way to declare variable\n",
    "print(age)"
   ]
  },
  {
   "cell_type": "markdown",
   "id": "fb067bad-775c-4feb-8f54-1affbc7751a4",
   "metadata": {},
   "source": [
    "Q8. Declare a variable named price and assign the value 9.99 to it. What data type does this variable\n",
    "belong to?"
   ]
  },
  {
   "cell_type": "code",
   "execution_count": 11,
   "id": "69be4a43-a269-4cce-8436-f4fdabcc7de7",
   "metadata": {},
   "outputs": [
    {
     "name": "stdout",
     "output_type": "stream",
     "text": [
      "9.99\n"
     ]
    },
    {
     "data": {
      "text/plain": [
       "float"
      ]
     },
     "execution_count": 11,
     "metadata": {},
     "output_type": "execute_result"
    }
   ],
   "source": [
    "price=9.99\n",
    "print(price)\n",
    "type(price)"
   ]
  },
  {
   "cell_type": "markdown",
   "id": "f75528e0-e640-4377-9826-2b8699c57c74",
   "metadata": {},
   "source": [
    "Q9. Create a variable named name and assign your full name to it as a string. How would you print the\n",
    "value of this variable?"
   ]
  },
  {
   "cell_type": "code",
   "execution_count": 12,
   "id": "bbe76976-cac2-4286-921a-3fc35f509ccf",
   "metadata": {},
   "outputs": [
    {
     "name": "stdout",
     "output_type": "stream",
     "text": [
      "Sudipta Sundar Pal\n"
     ]
    }
   ],
   "source": [
    "name=\"Sudipta Sundar Pal\"\n",
    "print(name)"
   ]
  },
  {
   "cell_type": "markdown",
   "id": "050a98da-d166-4d78-82de-67476683c3c8",
   "metadata": {},
   "source": [
    "Q10. Given the string \"Hello, World!\", extract the substring \"World\"."
   ]
  },
  {
   "cell_type": "code",
   "execution_count": 13,
   "id": "7b8804f8-a177-43f8-bf76-8e63d6d3bb5c",
   "metadata": {},
   "outputs": [
    {
     "data": {
      "text/plain": [
       "'World'"
      ]
     },
     "execution_count": 13,
     "metadata": {},
     "output_type": "execute_result"
    }
   ],
   "source": [
    "string=\"Hello, World!\"\n",
    "string[7:12]"
   ]
  },
  {
   "cell_type": "markdown",
   "id": "a463cdc3-e678-4bea-9e2e-6dbbe8151bc6",
   "metadata": {},
   "source": [
    "Q11. Create a variable named \"is_student\" and assign it a boolean value indicating whether you are\n",
    "currently a student or not."
   ]
  },
  {
   "cell_type": "code",
   "execution_count": 14,
   "id": "3a6ff9f8-fcfc-4d47-997b-e66d0e972c62",
   "metadata": {},
   "outputs": [
    {
     "name": "stdout",
     "output_type": "stream",
     "text": [
      "False\n"
     ]
    }
   ],
   "source": [
    "is_student = True  # If you are currently a student\n",
    "is_student = False  # If you are not currently a student\n",
    "print(is_student)\n"
   ]
  },
  {
   "cell_type": "code",
   "execution_count": null,
   "id": "2d6e59de-45ba-4c07-8401-c3488b5b1834",
   "metadata": {},
   "outputs": [],
   "source": []
  }
 ],
 "metadata": {
  "kernelspec": {
   "display_name": "Python 3 (ipykernel)",
   "language": "python",
   "name": "python3"
  },
  "language_info": {
   "codemirror_mode": {
    "name": "ipython",
    "version": 3
   },
   "file_extension": ".py",
   "mimetype": "text/x-python",
   "name": "python",
   "nbconvert_exporter": "python",
   "pygments_lexer": "ipython3",
   "version": "3.11.7"
  }
 },
 "nbformat": 4,
 "nbformat_minor": 5
}
