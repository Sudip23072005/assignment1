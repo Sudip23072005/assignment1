{
 "cells": [
  {
   "cell_type": "markdown",
   "id": "c315b080-2e78-4545-b212-fd7ada6fdb73",
   "metadata": {},
   "source": [
    "Q1. Which keyword is used to create a function? Create a function to return a list of odd numbers in the\n",
    "range of 1 to 25."
   ]
  },
  {
   "cell_type": "markdown",
   "id": "6b818e8f-b420-498b-97ed-187ec27903ce",
   "metadata": {},
   "source": [
    "def keyword is used for creating a function"
   ]
  },
  {
   "cell_type": "code",
   "execution_count": 4,
   "id": "4ee13777-5963-4fe6-b836-feb4f2da5c95",
   "metadata": {},
   "outputs": [],
   "source": [
    "def func(l,m):\n",
    "    for i in range(l,m):\n",
    "         if i%2==0:\n",
    "             print(i)"
   ]
  },
  {
   "cell_type": "code",
   "execution_count": 5,
   "id": "374cc622-5bab-4d79-bd9d-be146da8d862",
   "metadata": {},
   "outputs": [
    {
     "name": "stdout",
     "output_type": "stream",
     "text": [
      "2\n",
      "4\n",
      "6\n",
      "8\n",
      "10\n",
      "12\n",
      "14\n",
      "16\n",
      "18\n",
      "20\n",
      "22\n",
      "24\n"
     ]
    }
   ],
   "source": [
    "func(1,26)"
   ]
  },
  {
   "cell_type": "markdown",
   "id": "dede60a2-cd47-43b7-8d18-29e70ed2f3d8",
   "metadata": {},
   "source": [
    "Q2. Why *args and **kwargs is used in some functions? Create a function each for *args and **kwargs to\n",
    "demonstrate their use."
   ]
  },
  {
   "cell_type": "markdown",
   "id": "23645b05-31dc-4d93-b0fe-0adb5168228b",
   "metadata": {},
   "source": [
    "*args is used to pass a variable number of non-keyworded arguments to a function. It allows you to pass any number of arguments to a function.\n",
    "\n",
    "**kwargs is used to pass a variable number of keyword arguments to a function. It allows you to handle named arguments of variable length."
   ]
  },
  {
   "cell_type": "code",
   "execution_count": 6,
   "id": "29045fc9-6d8b-47f2-bd17-f6a998e6e86b",
   "metadata": {},
   "outputs": [
    {
     "name": "stdout",
     "output_type": "stream",
     "text": [
      "Demo of *args:\n",
      "6\n",
      "15\n",
      "\n",
      "Demo of **kwargs:\n",
      "name: John\n",
      "age: 30\n",
      "city: New York\n"
     ]
    }
   ],
   "source": [
    "def sum_all(*args):\n",
    "    total = 0\n",
    "    for num in args:\n",
    "        total += num\n",
    "    return total\n",
    "\n",
    "def print_info(**kwargs):\n",
    "    for key, value in kwargs.items():\n",
    "        print(f\"{key}: {value}\")\n",
    "print(\"Demo of *args:\")\n",
    "print(sum_all(1, 2, 3))  \n",
    "print(sum_all(1, 2, 3, 4, 5))  \n",
    "\n",
    "# Demo of **kwargs\n",
    "print(\"\\nDemo of **kwargs:\")\n",
    "print_info(name=\"John\", age=30, city=\"New York\")\n",
    "\n"
   ]
  },
  {
   "cell_type": "markdown",
   "id": "f5f2dcf3-b67c-4c1c-beb8-ac1f307beb2a",
   "metadata": {},
   "source": [
    "Q3. What is an iterator in python? Name the method used to initialise the iterator object and the method\n",
    "used for iteration. Use these methods to print the first five elements of the given list [2, 4, 6, 8, 10, 12, 14, 16,\n",
    "18, 20]."
   ]
  },
  {
   "cell_type": "markdown",
   "id": "ad54c3e9-2d82-4fda-a9ec-5297c1190dfe",
   "metadata": {},
   "source": [
    "In Python, an iterator is an object that implements the iterator protocol, which consists of two methods: __iter__() and __next__().\n",
    "\n",
    "The __iter__() method initializes the iterator object and returns it.\n",
    "The __next__() method retrieves the next item from the iterator. When there are no more items to return, it raises the StopIteration exception."
   ]
  },
  {
   "cell_type": "code",
   "execution_count": 8,
   "id": "68533773-70a4-41d4-b682-8d9a7dbb1a44",
   "metadata": {},
   "outputs": [
    {
     "name": "stdout",
     "output_type": "stream",
     "text": [
      "First five elements of the list:\n",
      "2\n",
      "4\n",
      "6\n",
      "8\n",
      "10\n"
     ]
    }
   ],
   "source": [
    "my_list = [2, 4, 6, 8, 10, 12, 14, 16, 18, 20]\n",
    "\n",
    "iterator = iter(my_list)\n",
    "\n",
    "print(\"First five elements of the list:\")\n",
    "for i in range(5):\n",
    "    print(next(iterator))\n"
   ]
  },
  {
   "cell_type": "markdown",
   "id": "743a8ff6-462e-4ccd-a045-1c33e9c46d3c",
   "metadata": {},
   "source": [
    "Q4. What is a generator function in python? Why yield keyword is used? Give an example of a generator\n",
    "function."
   ]
  },
  {
   "cell_type": "markdown",
   "id": "17dc8e53-b96b-4bcb-b574-4e50e8b700f2",
   "metadata": {},
   "source": [
    "A generator function in Python is a special type of function that generates a sequence of values using the yield keyword.The yield keyword is used in generator functions to produce a value to be returned to the caller. When a generator function is called, it does nott execute immediately like regular functions. Instead, it returns a generator object, which can then be iterated over using a loop or other iterable methods. Each time the yield statement is encountered in the generator function, the function's state is saved, and the value is returned. When the generator is iterated over again, it resumes execution from where it left off."
   ]
  },
  {
   "cell_type": "code",
   "execution_count": 9,
   "id": "ebdebac0-dd9b-4368-a36c-f4228f0335db",
   "metadata": {},
   "outputs": [
    {
     "name": "stdout",
     "output_type": "stream",
     "text": [
      "0\n",
      "2\n",
      "4\n",
      "6\n",
      "8\n",
      "10\n"
     ]
    }
   ],
   "source": [
    "def even_numbers(limit):\n",
    "    num = 0\n",
    "    while num <= limit:\n",
    "        yield num\n",
    "        num += 2\n",
    "        \n",
    "even_gen = even_numbers(10)\n",
    "\n",
    "for n in even_gen:\n",
    "    print(n)\n"
   ]
  },
  {
   "cell_type": "markdown",
   "id": "c282d9de-465c-4f4b-9be5-9ac2451fa41c",
   "metadata": {},
   "source": [
    "Q5. Create a generator function for prime numbers less than 1000. Use the next() method to print the\n",
    "first 20 prime numbers."
   ]
  },
  {
   "cell_type": "code",
   "execution_count": 10,
   "id": "c6f028f5-e42e-4a7f-b827-4814a42f5471",
   "metadata": {},
   "outputs": [
    {
     "name": "stdout",
     "output_type": "stream",
     "text": [
      "First 20 prime numbers:\n",
      "2\n",
      "3\n",
      "5\n",
      "7\n",
      "11\n",
      "13\n",
      "17\n",
      "19\n",
      "23\n",
      "29\n",
      "31\n",
      "37\n",
      "41\n",
      "43\n",
      "47\n",
      "53\n",
      "59\n",
      "61\n",
      "67\n",
      "71\n"
     ]
    }
   ],
   "source": [
    "def is_prime(num):\n",
    "    if num <= 1:\n",
    "        return False\n",
    "    for i in range(2, int(num**0.5) + 1):\n",
    "        if num % i == 0:\n",
    "            return False\n",
    "    return True\n",
    "\n",
    "def prime_generator():\n",
    "    num = 2\n",
    "    while num < 1000:\n",
    "        if is_prime(num):\n",
    "            yield num\n",
    "        num += 1\n",
    "\n",
    "prime_gen = prime_generator()\n",
    "\n",
    "print(\"First 20 prime numbers:\")\n",
    "for _ in range(20):\n",
    "    print(next(prime_gen))\n"
   ]
  },
  {
   "cell_type": "code",
   "execution_count": null,
   "id": "961a6847-9a66-4fff-9cd1-96f72ba4f378",
   "metadata": {},
   "outputs": [],
   "source": []
  }
 ],
 "metadata": {
  "kernelspec": {
   "display_name": "Python 3 (ipykernel)",
   "language": "python",
   "name": "python3"
  },
  "language_info": {
   "codemirror_mode": {
    "name": "ipython",
    "version": 3
   },
   "file_extension": ".py",
   "mimetype": "text/x-python",
   "name": "python",
   "nbconvert_exporter": "python",
   "pygments_lexer": "ipython3",
   "version": "3.11.7"
  }
 },
 "nbformat": 4,
 "nbformat_minor": 5
}
